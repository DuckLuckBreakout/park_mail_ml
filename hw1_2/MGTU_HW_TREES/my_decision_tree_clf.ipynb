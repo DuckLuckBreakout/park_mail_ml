{
 "cells": [
  {
   "cell_type": "markdown",
   "metadata": {
    "id": "Q93E5pIdPetF",
    "toc": true
   },
   "source": [
    "<h1>Table of Contents<span class=\"tocSkip\"></span></h1>\n",
    "<div class=\"toc\"><ul class=\"toc-item\"><li><span><a href=\"#Подготовка-данных\" data-toc-modified-id=\"Подготовка-данных-1\"><span class=\"toc-item-num\">1&nbsp;&nbsp;</span>Подготовка данных</a></span></li><li><span><a href=\"#Разделение-на-train,-test\" data-toc-modified-id=\"Разделение-на-train,-test-2\"><span class=\"toc-item-num\">2&nbsp;&nbsp;</span>Разделение на train, test</a></span></li><li><span><a href=\"#Fit-MyDecisionTree\" data-toc-modified-id=\"Fit-MyDecisionTree-3\"><span class=\"toc-item-num\">3&nbsp;&nbsp;</span>Fit MyDecisionTree</a></span></li><li><span><a href=\"#Predict-MyDecisionTree\" data-toc-modified-id=\"Predict-MyDecisionTree-4\"><span class=\"toc-item-num\">4&nbsp;&nbsp;</span>Predict MyDecisionTree</a></span></li><li><span><a href=\"#Train-with-sklearn\" data-toc-modified-id=\"Train-with-sklearn-5\"><span class=\"toc-item-num\">5&nbsp;&nbsp;</span>Train with sklearn</a></span></li><li><span><a href=\"#Сравнение-метрик\" data-toc-modified-id=\"Сравнение-метрик-6\"><span class=\"toc-item-num\">6&nbsp;&nbsp;</span>Сравнение метрик</a></span></li></ul></div>"
   ]
  },
  {
   "cell_type": "markdown",
   "metadata": {
    "id": "WstusuN4PetG"
   },
   "source": [
    "# Задание  \n",
    "\n",
    "1. Напишите свой алгоритм построения дерева решений для задачи бинарной классификации.  \n",
    "    - критерий информативности - Энтропия Шеннона\n",
    "    - критерии останова - максимальная глубина, кол-во элементов в листе, прирост энтропии < x\n",
    "2. Сравните результат работы своего алгоритма с sklearn    \n",
    "\n",
    "3. (дополнительно)  Попробуйте не делать One-Hot-Encoding для категориальных переменных, а добавить их обработку в свой алгоритм. Сравните качество работы алгоритма с предыдущим решением."
   ]
  },
  {
   "cell_type": "markdown",
   "metadata": {
    "id": "Ia9gyoKsPetI"
   },
   "source": [
    "## Подготовка данных\n",
    "Рассмотрим задачу \"Титаник\" https://www.kaggle.com/c/titanic/data. Необходимо предсказать выживет пассажир или нет."
   ]
  },
  {
   "cell_type": "code",
   "execution_count": 1,
   "metadata": {
    "id": "1ieX27epPetK"
   },
   "outputs": [],
   "source": [
    "import numpy as np\n",
    "import pandas as pd\n",
    "\n",
    "from sklearn.metrics import roc_auc_score, accuracy_score, confusion_matrix "
   ]
  },
  {
   "cell_type": "code",
   "execution_count": 2,
   "metadata": {
    "id": "RqAcv2K0PetQ"
   },
   "outputs": [],
   "source": [
    "# считаем данные из файла в pandas DataFrame\n",
    "df = pd.read_csv(\"train.csv\")\n",
    "\n",
    "# зафиксируем целевую переменную и удалим ее из данных\n",
    "y = df['Survived']\n",
    "df.drop('Survived', axis=1, inplace=True)"
   ]
  },
  {
   "cell_type": "code",
   "execution_count": 3,
   "metadata": {
    "id": "DiLLm5CfPetV"
   },
   "outputs": [],
   "source": [
    "# удалим признаки PassengerId, Name, Ticket и Cabin из данных\n",
    "df.drop(['PassengerId', 'Name', 'Ticket', 'Cabin'], axis=1, inplace=True)\n",
    "\n",
    "# заполним пропуски в признаке Age обучающей выборки медианным значением\n",
    "df['Age'].fillna(df['Age'].median(), inplace=True)\n",
    "\n",
    "#заполним пропуски в признаке Embarked обучающей выборки самыми частыми значениями этого признака\n",
    "df['Embarked'].fillna(df['Embarked'].value_counts().idxmax(), inplace=True)\n",
    "\n",
    "#заменим категориальные признаки, используя One-Hot-Encoding\n",
    "categorical = ['Pclass', 'Sex', 'SibSp', 'Parch', 'Embarked']\n",
    "df = pd.concat([df, pd.get_dummies(df[categorical], columns=categorical, drop_first=True)],axis=1)\n",
    "\n",
    "df.drop(categorical, axis=1, inplace=True)"
   ]
  },
  {
   "cell_type": "code",
   "execution_count": 4,
   "metadata": {
    "id": "wdiCsMyMPeta",
    "scrolled": true
   },
   "outputs": [
    {
     "data": {
      "text/html": [
       "<div>\n",
       "<style scoped>\n",
       "    .dataframe tbody tr th:only-of-type {\n",
       "        vertical-align: middle;\n",
       "    }\n",
       "\n",
       "    .dataframe tbody tr th {\n",
       "        vertical-align: top;\n",
       "    }\n",
       "\n",
       "    .dataframe thead th {\n",
       "        text-align: right;\n",
       "    }\n",
       "</style>\n",
       "<table border=\"1\" class=\"dataframe\">\n",
       "  <thead>\n",
       "    <tr style=\"text-align: right;\">\n",
       "      <th></th>\n",
       "      <th>Age</th>\n",
       "      <th>Fare</th>\n",
       "      <th>Pclass_2</th>\n",
       "      <th>Pclass_3</th>\n",
       "      <th>Sex_male</th>\n",
       "      <th>SibSp_1</th>\n",
       "      <th>SibSp_2</th>\n",
       "      <th>SibSp_3</th>\n",
       "      <th>SibSp_4</th>\n",
       "      <th>SibSp_5</th>\n",
       "      <th>SibSp_8</th>\n",
       "      <th>Parch_1</th>\n",
       "      <th>Parch_2</th>\n",
       "      <th>Parch_3</th>\n",
       "      <th>Parch_4</th>\n",
       "      <th>Parch_5</th>\n",
       "      <th>Parch_6</th>\n",
       "      <th>Embarked_Q</th>\n",
       "      <th>Embarked_S</th>\n",
       "    </tr>\n",
       "  </thead>\n",
       "  <tbody>\n",
       "    <tr>\n",
       "      <th>0</th>\n",
       "      <td>22.0</td>\n",
       "      <td>7.2500</td>\n",
       "      <td>0</td>\n",
       "      <td>1</td>\n",
       "      <td>1</td>\n",
       "      <td>1</td>\n",
       "      <td>0</td>\n",
       "      <td>0</td>\n",
       "      <td>0</td>\n",
       "      <td>0</td>\n",
       "      <td>0</td>\n",
       "      <td>0</td>\n",
       "      <td>0</td>\n",
       "      <td>0</td>\n",
       "      <td>0</td>\n",
       "      <td>0</td>\n",
       "      <td>0</td>\n",
       "      <td>0</td>\n",
       "      <td>1</td>\n",
       "    </tr>\n",
       "    <tr>\n",
       "      <th>1</th>\n",
       "      <td>38.0</td>\n",
       "      <td>71.2833</td>\n",
       "      <td>0</td>\n",
       "      <td>0</td>\n",
       "      <td>0</td>\n",
       "      <td>1</td>\n",
       "      <td>0</td>\n",
       "      <td>0</td>\n",
       "      <td>0</td>\n",
       "      <td>0</td>\n",
       "      <td>0</td>\n",
       "      <td>0</td>\n",
       "      <td>0</td>\n",
       "      <td>0</td>\n",
       "      <td>0</td>\n",
       "      <td>0</td>\n",
       "      <td>0</td>\n",
       "      <td>0</td>\n",
       "      <td>0</td>\n",
       "    </tr>\n",
       "    <tr>\n",
       "      <th>2</th>\n",
       "      <td>26.0</td>\n",
       "      <td>7.9250</td>\n",
       "      <td>0</td>\n",
       "      <td>1</td>\n",
       "      <td>0</td>\n",
       "      <td>0</td>\n",
       "      <td>0</td>\n",
       "      <td>0</td>\n",
       "      <td>0</td>\n",
       "      <td>0</td>\n",
       "      <td>0</td>\n",
       "      <td>0</td>\n",
       "      <td>0</td>\n",
       "      <td>0</td>\n",
       "      <td>0</td>\n",
       "      <td>0</td>\n",
       "      <td>0</td>\n",
       "      <td>0</td>\n",
       "      <td>1</td>\n",
       "    </tr>\n",
       "    <tr>\n",
       "      <th>3</th>\n",
       "      <td>35.0</td>\n",
       "      <td>53.1000</td>\n",
       "      <td>0</td>\n",
       "      <td>0</td>\n",
       "      <td>0</td>\n",
       "      <td>1</td>\n",
       "      <td>0</td>\n",
       "      <td>0</td>\n",
       "      <td>0</td>\n",
       "      <td>0</td>\n",
       "      <td>0</td>\n",
       "      <td>0</td>\n",
       "      <td>0</td>\n",
       "      <td>0</td>\n",
       "      <td>0</td>\n",
       "      <td>0</td>\n",
       "      <td>0</td>\n",
       "      <td>0</td>\n",
       "      <td>1</td>\n",
       "    </tr>\n",
       "    <tr>\n",
       "      <th>4</th>\n",
       "      <td>35.0</td>\n",
       "      <td>8.0500</td>\n",
       "      <td>0</td>\n",
       "      <td>1</td>\n",
       "      <td>1</td>\n",
       "      <td>0</td>\n",
       "      <td>0</td>\n",
       "      <td>0</td>\n",
       "      <td>0</td>\n",
       "      <td>0</td>\n",
       "      <td>0</td>\n",
       "      <td>0</td>\n",
       "      <td>0</td>\n",
       "      <td>0</td>\n",
       "      <td>0</td>\n",
       "      <td>0</td>\n",
       "      <td>0</td>\n",
       "      <td>0</td>\n",
       "      <td>1</td>\n",
       "    </tr>\n",
       "  </tbody>\n",
       "</table>\n",
       "</div>"
      ],
      "text/plain": [
       "    Age     Fare  Pclass_2  Pclass_3  Sex_male  SibSp_1  SibSp_2  SibSp_3  \\\n",
       "0  22.0   7.2500         0         1         1        1        0        0   \n",
       "1  38.0  71.2833         0         0         0        1        0        0   \n",
       "2  26.0   7.9250         0         1         0        0        0        0   \n",
       "3  35.0  53.1000         0         0         0        1        0        0   \n",
       "4  35.0   8.0500         0         1         1        0        0        0   \n",
       "\n",
       "   SibSp_4  SibSp_5  SibSp_8  Parch_1  Parch_2  Parch_3  Parch_4  Parch_5  \\\n",
       "0        0        0        0        0        0        0        0        0   \n",
       "1        0        0        0        0        0        0        0        0   \n",
       "2        0        0        0        0        0        0        0        0   \n",
       "3        0        0        0        0        0        0        0        0   \n",
       "4        0        0        0        0        0        0        0        0   \n",
       "\n",
       "   Parch_6  Embarked_Q  Embarked_S  \n",
       "0        0           0           1  \n",
       "1        0           0           0  \n",
       "2        0           0           1  \n",
       "3        0           0           1  \n",
       "4        0           0           1  "
      ]
     },
     "execution_count": 4,
     "metadata": {},
     "output_type": "execute_result"
    }
   ],
   "source": [
    "df.head()"
   ]
  },
  {
   "cell_type": "markdown",
   "metadata": {
    "id": "gc6pS7ysPetf"
   },
   "source": [
    "## Разделение на train, test"
   ]
  },
  {
   "cell_type": "code",
   "execution_count": 5,
   "metadata": {
    "id": "NFgjTbFaPetg"
   },
   "outputs": [],
   "source": [
    "from sklearn.model_selection import train_test_split\n",
    "\n",
    "X_train, X_test, y_train, y_test = train_test_split(df, y, test_size = 0.1, random_state = 13)"
   ]
  },
  {
   "cell_type": "code",
   "execution_count": 6,
   "metadata": {
    "id": "Pi2vrBpTPetk"
   },
   "outputs": [
    {
     "name": "stdout",
     "output_type": "stream",
     "text": [
      "Train: 801\n",
      "Test: 90\n"
     ]
    }
   ],
   "source": [
    "print ('Train: ' + str(len(X_train)))\n",
    "print ('Test: ' + str(len(X_test)))"
   ]
  },
  {
   "cell_type": "markdown",
   "metadata": {
    "id": "LAwFQ_ozPetp"
   },
   "source": [
    "## Fit MyDecisionTree  \n",
    "Напишите свою функцию построения дерева.\n",
    "\n",
    "Структуру дерева можно задать, например, словарем следующего вида:  \n",
    "```python\n",
    "{'feature_name': 'Age', # название фичи \n",
    "'threshold': 20, # порог разбиения\n",
    "'left': 0,  # ссылка на левое поддерево, задан доминирующий класс\n",
    "'right': 1} # ссылка на правое поддерево, задан доминирующий класс\n",
    "```"
   ]
  },
  {
   "cell_type": "markdown",
   "metadata": {},
   "source": [
    "Для представления дерева создал класс `MyDecisionTreeClassifier`"
   ]
  },
  {
   "cell_type": "code",
   "execution_count": 7,
   "metadata": {},
   "outputs": [],
   "source": [
    "# Класс узла\n",
    "class Node:\n",
    "    def __init__(self, index, threshold, true_branch, false_branch):\n",
    "        self.index = index  # индекс признака, по которому ведется сравнение с порогом в этом узле\n",
    "        self.threshold = threshold  # значение порога\n",
    "        self.true_branch = true_branch  # поддерево, удовлетворяющее условию в узле\n",
    "        self.false_branch = false_branch  # поддерево, не удовлетворяющее условию в узле\n",
    "\n",
    "\n",
    "# Класс терминального узла (листа)\n",
    "class Leaf:\n",
    "    def __init__(self, data, labels):\n",
    "        self.data = data  # значения признаков\n",
    "        self.labels = labels  # y_true\n",
    "        self.prediction = self.predict()  # y_pred\n",
    "\n",
    "    def predict(self):\n",
    "        classes = {}  # \"класс: количество объектов\"\n",
    "        for label in self.labels:\n",
    "            if label not in classes:\n",
    "                classes[label] = 0\n",
    "            classes[label] += 1\n",
    "        #  найдем класс, количество объектов которого будет максимальным в этом листе и вернем его\n",
    "        prediction = max(classes, key=classes.get)\n",
    "        return prediction\n",
    "\n",
    "\n",
    "# Само дерево\n",
    "class MyDecisionTreeClassifier:\n",
    "    def __init__(self, max_depth, min_samples_leaf, criterion='entropy'):\n",
    "        self.depth = max_depth\n",
    "        self.criterion = eval(f'self.{criterion}')\n",
    "        self.min_samples_leaf = min_samples_leaf\n",
    "        self.model = None\n",
    "\n",
    "    def fit(self, X, y):\n",
    "        data = X.to_numpy()\n",
    "        target = y.to_numpy()\n",
    "        self.model = self.build_tree(data, target, 1)\n",
    "\n",
    "    def predict(self, data):\n",
    "        data = data.to_numpy()\n",
    "        classes = []\n",
    "        for obj in data:\n",
    "            prediction = self.classify_object(obj, self.model)\n",
    "            classes.append(prediction)\n",
    "        return classes\n",
    "\n",
    "    def quality(self, left_targets, right_targets, criterion):\n",
    "        p = float(left_targets.shape[0]) / (left_targets.shape[0] + right_targets.shape[0])\n",
    "        return criterion - p * self.criterion(left_targets) - (1 - p) * self.criterion(\n",
    "            right_targets)\n",
    "\n",
    "    def entropy(self, target):\n",
    "        def p(val):\n",
    "            return val / target.size\n",
    "\n",
    "        class_counter = np.unique(target, return_counts=True)[1]\n",
    "        return -(np.array([p(val) * np.log2(p(val)) for val in class_counter])).sum()\n",
    "\n",
    "    def build_tree(self, data, target, level):\n",
    "\n",
    "        if level >= self.depth:\n",
    "            return Leaf(data, target)\n",
    "        level += 1\n",
    "\n",
    "        quality, t, index = self.find_best_split(data, target)\n",
    "\n",
    "        if quality == 0:\n",
    "            return Leaf(data, target)  # считаем прогноз для листьев\n",
    "\n",
    "        true_data, false_data, true_labels, false_labels = self.split(data, target, index, t)\n",
    "\n",
    "        true_branch = self.build_tree(true_data, true_labels, level)\n",
    "        false_branch = self.build_tree(false_data, false_labels, level)\n",
    "\n",
    "        # Возвращаем класс узла со всеми поддеревьями, то есть целого дерева\n",
    "        return Node(index, t, true_branch, false_branch)\n",
    "\n",
    "    def split(self, data, target, index, threshold):\n",
    "        left = np.where(data[:, index] <= threshold)\n",
    "        right = np.where(data[:, index] > threshold)\n",
    "\n",
    "        true_data = data[left]\n",
    "        false_data = data[right]\n",
    "        true_labels = target[left]\n",
    "        false_labels = target[right]\n",
    "\n",
    "        return true_data, false_data, true_labels, false_labels\n",
    "\n",
    "    def find_best_split(self, data, target):\n",
    "        criterion = self.criterion(target)\n",
    "\n",
    "        best_quality = 0\n",
    "        best_threshold = None\n",
    "        best_index = None\n",
    "\n",
    "        n_features = data.shape[1]  # кол-во признаков\n",
    "\n",
    "        for index in range(n_features):\n",
    "            threshold_values = [row[index] for row in data]  # берем столбец/признак с соотв. индексом\n",
    "\n",
    "            for threshold in threshold_values:  # проход по признаку\n",
    "                true_data, false_data, true_labels, false_labels = self.split(data, target, index,\n",
    "                                                                              threshold)\n",
    "\n",
    "                if len(true_data) < self.min_samples_leaf or len(false_data) < self.min_samples_leaf:\n",
    "                    continue\n",
    "\n",
    "                current_quality = self.quality(true_labels, false_labels, criterion)\n",
    "\n",
    "                if current_quality > best_quality:\n",
    "                    best_quality, best_threshold, best_index = current_quality, threshold, index\n",
    "\n",
    "        return best_quality, best_threshold, best_index\n",
    "\n",
    "    def classify_object(self, obj, node):\n",
    "        if isinstance(node, Leaf):\n",
    "            answer = node.prediction\n",
    "            return answer\n",
    "\n",
    "        if obj[node.index] <= node.threshold:\n",
    "            return self.classify_object(obj, node.true_branch)\n",
    "        else:\n",
    "            return self.classify_object(obj, node.false_branch)\n",
    "\n"
   ]
  },
  {
   "cell_type": "markdown",
   "metadata": {
    "id": "q7ywEJyuPet8"
   },
   "source": [
    "## Train with sklearn \n",
    "\n",
    "Обучите дерево, используя библиотеку sklearn. Задайте те же параметры, что и при обучении своего дерева.  \n",
    "\n",
    "Сравните метрики и попробуйте улучшить ваше дерево."
   ]
  },
  {
   "cell_type": "code",
   "execution_count": 8,
   "metadata": {
    "id": "vHf0AvUaPet9"
   },
   "outputs": [],
   "source": [
    "from sklearn.tree import DecisionTreeClassifier\n",
    "from termcolor import colored"
   ]
  },
  {
   "cell_type": "markdown",
   "metadata": {
    "id": "b2VC_9C_PeuD"
   },
   "source": [
    "## Сравнение метрик"
   ]
  },
  {
   "cell_type": "code",
   "execution_count": 9,
   "metadata": {},
   "outputs": [
    {
     "name": "stdout",
     "output_type": "stream",
     "text": [
      "depth \t my roc train \t sklearn roc train \t my roc test \t sklearn roc test\n",
      "1 \u001b[31m            0.5000             0.7625\u001b[0m\u001b[31m            0.5000             0.8108\u001b[0m\n",
      "2 \u001b[32m            0.7625             0.7625\u001b[0m\u001b[32m            0.8108             0.8108\u001b[0m\n",
      "3 \u001b[31m            0.7625             0.8055\u001b[0m\u001b[31m            0.8108             0.8524\u001b[0m\n",
      "4 \u001b[32m            0.8055             0.8020\u001b[0m\u001b[32m            0.8524             0.7895\u001b[0m\n",
      "5 \u001b[31m            0.8020             0.8090\u001b[0m\u001b[32m            0.7895             0.7810\u001b[0m\n",
      "6 \u001b[31m            0.8090             0.8222\u001b[0m\u001b[32m            0.7810             0.7726\u001b[0m\n",
      "7 \u001b[31m            0.8245             0.8256\u001b[0m\u001b[31m            0.7641             0.7726\u001b[0m\n",
      "8 \u001b[31m            0.8279             0.8387\u001b[0m\u001b[31m            0.7641             0.8609\u001b[0m\n",
      "9 \u001b[32m            0.8411             0.8387\u001b[0m\u001b[31m            0.8362             0.8609\u001b[0m\n"
     ]
    }
   ],
   "source": [
    "print('depth \\t my roc train \\t sklearn roc train \\t my roc test \\t sklearn roc test')\n",
    "\n",
    "my_roc_train_results = []\n",
    "my_roc_test_results = []\n",
    "\n",
    "for depth in range(1, 10):\n",
    "    clf_tree = DecisionTreeClassifier(max_depth=depth, min_samples_leaf=5, criterion='entropy', random_state=0)\n",
    "    clf_tree.fit(X_train, y_train)\n",
    "    y_pred_test = clf_tree.predict(X_test)\n",
    "    y_pred_train = clf_tree.predict(X_train)\n",
    "    \n",
    "    \n",
    "    my_tree = MyDecisionTreeClassifier(max_depth=depth, min_samples_leaf=5, criterion='entropy')\n",
    "    my_tree.fit(X_train, y_train)\n",
    "    my_pred_test = my_tree.predict(X_test)\n",
    "    my_pred_train = my_tree.predict(X_train)\n",
    "    \n",
    "    \n",
    "    # метрики при обучении, используя библиотеку sklearn\n",
    "    skl_roc_train = roc_auc_score(y_train, y_pred_train)\n",
    "    skl_roc_test = roc_auc_score(y_test, y_pred_test)\n",
    "\n",
    "    # метрики при обучении, используя собственный алгоритм\n",
    "    my_roc_train = roc_auc_score(y_train, my_pred_train)\n",
    "    my_roc_test = roc_auc_score(y_test, my_pred_test)\n",
    "\n",
    "    my_roc_train_results.append(my_roc_train)\n",
    "    my_roc_test_results.append(my_roc_test)\n",
    "\n",
    "    \n",
    "    color = 'green' if my_roc_train >= skl_roc_train else 'red'\n",
    "    print(f'{depth}', colored(f'{my_roc_train:18.4f} {skl_roc_train:18.4f}', color), end='')\n",
    "    \n",
    "    color = 'green' if my_roc_test >= skl_roc_test else 'red'\n",
    "    print(colored(f'{my_roc_test:18.4f} {skl_roc_test:18.4f}', color))"
   ]
  },
  {
   "cell_type": "markdown",
   "metadata": {},
   "source": [
    "# Без One-Hot-Encoding для категориальных переменных"
   ]
  },
  {
   "cell_type": "code",
   "execution_count": 10,
   "metadata": {},
   "outputs": [
    {
     "data": {
      "text/html": [
       "<div>\n",
       "<style scoped>\n",
       "    .dataframe tbody tr th:only-of-type {\n",
       "        vertical-align: middle;\n",
       "    }\n",
       "\n",
       "    .dataframe tbody tr th {\n",
       "        vertical-align: top;\n",
       "    }\n",
       "\n",
       "    .dataframe thead th {\n",
       "        text-align: right;\n",
       "    }\n",
       "</style>\n",
       "<table border=\"1\" class=\"dataframe\">\n",
       "  <thead>\n",
       "    <tr style=\"text-align: right;\">\n",
       "      <th></th>\n",
       "      <th>Pclass</th>\n",
       "      <th>Sex</th>\n",
       "      <th>Age</th>\n",
       "      <th>SibSp</th>\n",
       "      <th>Parch</th>\n",
       "      <th>Fare</th>\n",
       "      <th>Embarked</th>\n",
       "    </tr>\n",
       "  </thead>\n",
       "  <tbody>\n",
       "    <tr>\n",
       "      <th>0</th>\n",
       "      <td>3</td>\n",
       "      <td>male</td>\n",
       "      <td>22.0</td>\n",
       "      <td>1</td>\n",
       "      <td>0</td>\n",
       "      <td>7.2500</td>\n",
       "      <td>S</td>\n",
       "    </tr>\n",
       "    <tr>\n",
       "      <th>1</th>\n",
       "      <td>1</td>\n",
       "      <td>female</td>\n",
       "      <td>38.0</td>\n",
       "      <td>1</td>\n",
       "      <td>0</td>\n",
       "      <td>71.2833</td>\n",
       "      <td>C</td>\n",
       "    </tr>\n",
       "    <tr>\n",
       "      <th>2</th>\n",
       "      <td>3</td>\n",
       "      <td>female</td>\n",
       "      <td>26.0</td>\n",
       "      <td>0</td>\n",
       "      <td>0</td>\n",
       "      <td>7.9250</td>\n",
       "      <td>S</td>\n",
       "    </tr>\n",
       "    <tr>\n",
       "      <th>3</th>\n",
       "      <td>1</td>\n",
       "      <td>female</td>\n",
       "      <td>35.0</td>\n",
       "      <td>1</td>\n",
       "      <td>0</td>\n",
       "      <td>53.1000</td>\n",
       "      <td>S</td>\n",
       "    </tr>\n",
       "    <tr>\n",
       "      <th>4</th>\n",
       "      <td>3</td>\n",
       "      <td>male</td>\n",
       "      <td>35.0</td>\n",
       "      <td>0</td>\n",
       "      <td>0</td>\n",
       "      <td>8.0500</td>\n",
       "      <td>S</td>\n",
       "    </tr>\n",
       "  </tbody>\n",
       "</table>\n",
       "</div>"
      ],
      "text/plain": [
       "   Pclass     Sex   Age  SibSp  Parch     Fare Embarked\n",
       "0       3    male  22.0      1      0   7.2500        S\n",
       "1       1  female  38.0      1      0  71.2833        C\n",
       "2       3  female  26.0      0      0   7.9250        S\n",
       "3       1  female  35.0      1      0  53.1000        S\n",
       "4       3    male  35.0      0      0   8.0500        S"
      ]
     },
     "execution_count": 10,
     "metadata": {},
     "output_type": "execute_result"
    }
   ],
   "source": [
    "# считаем данные из файла в pandas DataFrame\n",
    "df = pd.read_csv(\"train.csv\")\n",
    "\n",
    "# зафиксируем целевую переменную и удалим ее из данных\n",
    "y = df['Survived']\n",
    "df.drop('Survived', axis=1, inplace=True)\n",
    "\n",
    "# удалим признаки PassengerId, Name, Ticket и Cabin из данных\n",
    "df.drop(['PassengerId', 'Name', 'Ticket', 'Cabin'], axis=1, inplace=True)\n",
    "\n",
    "# заполним пропуски в признаке Age обучающей выборки медианным значением\n",
    "df['Age'].fillna(df['Age'].median(), inplace=True)\n",
    "\n",
    "#заполним пропуски в признаке Embarked обучающей выборки самыми частыми значениями этого признака\n",
    "df['Embarked'].fillna(df['Embarked'].value_counts().idxmax(), inplace=True)\n",
    "\n",
    "df.head()"
   ]
  },
  {
   "cell_type": "code",
   "execution_count": 11,
   "metadata": {},
   "outputs": [],
   "source": [
    "X_train, X_test, y_train, y_test = train_test_split(df, y, test_size = 0.1, random_state = 13)"
   ]
  },
  {
   "cell_type": "code",
   "execution_count": 12,
   "metadata": {},
   "outputs": [
    {
     "name": "stdout",
     "output_type": "stream",
     "text": [
      "depth \t new roc train \t old roc train \t new roc test \t old roc test\n",
      "1 \u001b[32m            0.5000          0.5000\u001b[0m\u001b[32m         0.5000          0.5000\u001b[0m\n",
      "2 \u001b[32m            0.7625          0.7625\u001b[0m\u001b[32m         0.8108          0.8108\u001b[0m\n",
      "3 \u001b[32m            0.7625          0.7625\u001b[0m\u001b[32m         0.8108          0.8108\u001b[0m\n",
      "4 \u001b[31m            0.7949          0.8055\u001b[0m\u001b[32m         0.8524          0.8524\u001b[0m\n",
      "5 \u001b[31m            0.7976          0.8020\u001b[0m\u001b[32m         0.7895          0.7895\u001b[0m\n",
      "6 \u001b[31m            0.8047          0.8090\u001b[0m\u001b[32m         0.7810          0.7810\u001b[0m\n",
      "7 \u001b[32m            0.8319          0.8245\u001b[0m\u001b[32m         0.7794          0.7641\u001b[0m\n",
      "8 \u001b[32m            0.8381          0.8279\u001b[0m\u001b[32m         0.7955          0.7641\u001b[0m\n",
      "9 \u001b[32m            0.8485          0.8411\u001b[0m\u001b[31m         0.8032          0.8362\u001b[0m\n"
     ]
    }
   ],
   "source": [
    "print('depth \\t new roc train \\t old roc train \\t new roc test \\t old roc test')\n",
    "\n",
    "for depth in range(1, 10):\n",
    "\n",
    "    \n",
    "    my_tree = MyDecisionTreeClassifier(max_depth=depth, min_samples_leaf=5, criterion='entropy')\n",
    "    my_tree.fit(X_train, y_train)\n",
    "    my_pred_test = my_tree.predict(X_test)\n",
    "    my_pred_train = my_tree.predict(X_train)\n",
    "    \n",
    "\n",
    "    # метрики при обучении, используя собственный алгоритм\n",
    "    my_roc_train = roc_auc_score(y_train, my_pred_train)\n",
    "    my_roc_test = roc_auc_score(y_test, my_pred_test)\n",
    "\n",
    "    color = 'green' if my_roc_train >= my_roc_train_results[depth - 1] else 'red'\n",
    "    print(f'{depth}', colored(f'{my_roc_train:18.4f} {my_roc_train_results[depth - 1]:15.4f}', color), end='')\n",
    "    \n",
    "    color = 'green' if my_roc_test >= my_roc_test_results[depth - 1] else 'red'\n",
    "    print(colored(f'{my_roc_test:15.4f} {my_roc_test_results[depth - 1]:15.4f}', color))"
   ]
  },
  {
   "cell_type": "code",
   "execution_count": null,
   "metadata": {},
   "outputs": [],
   "source": []
  }
 ],
 "metadata": {
  "colab": {
   "name": "my_decision_tree_clf.ipynb",
   "provenance": []
  },
  "kernelspec": {
   "display_name": "Python 3",
   "language": "python",
   "name": "python3"
  },
  "language_info": {
   "codemirror_mode": {
    "name": "ipython",
    "version": 3
   },
   "file_extension": ".py",
   "mimetype": "text/x-python",
   "name": "python",
   "nbconvert_exporter": "python",
   "pygments_lexer": "ipython3",
   "version": "3.7.6"
  },
  "toc": {
   "base_numbering": 1,
   "nav_menu": {},
   "number_sections": true,
   "sideBar": true,
   "skip_h1_title": true,
   "title_cell": "Table of Contents",
   "title_sidebar": "Contents",
   "toc_cell": true,
   "toc_position": {},
   "toc_section_display": true,
   "toc_window_display": true
  }
 },
 "nbformat": 4,
 "nbformat_minor": 1
}
